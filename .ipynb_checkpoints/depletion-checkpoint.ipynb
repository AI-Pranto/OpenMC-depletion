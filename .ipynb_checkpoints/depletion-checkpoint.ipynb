{
 "cells": [
  {
   "cell_type": "code",
   "execution_count": null,
   "metadata": {},
   "outputs": [],
   "source": [
    "from math import pi\n",
    "import json\n",
    "\n",
    "import openmc\n",
    "import openmc.deplete\n",
    "import numpy as np"
   ]
  },
  {
   "cell_type": "code",
   "execution_count": null,
   "metadata": {},
   "outputs": [],
   "source": [
    "uo2 = openmc.Material(material_id=1, name='UO2 fuel at 2.4% wt enrichment')\n",
    "uo2.set_density('g/cm3', 10.29769)\n",
    "uo2.add_element('U', 1., enrichment=2.4)\n",
    "uo2.add_element('O', 2.)\n",
    "\n",
    "helium = openmc.Material(material_id=2, name='Helium for gap')\n",
    "helium.set_density('g/cm3', 0.001598)\n",
    "helium.add_element('He', 2.4044e-4)\n",
    "\n",
    "zircaloy = openmc.Material(material_id=3, name='Zircaloy 4')\n",
    "zircaloy.set_density('g/cm3', 6.55)\n",
    "zircaloy.add_element('Sn', 0.014  , 'wo')\n",
    "zircaloy.add_element('Fe', 0.00165, 'wo')\n",
    "zircaloy.add_element('Cr', 0.001  , 'wo')\n",
    "zircaloy.add_element('Zr', 0.98335, 'wo')\n",
    "\n",
    "borated_water = openmc.Material(material_id=4, name='Borated water')\n",
    "borated_water.set_density('g/cm3', 0.740582)\n",
    "borated_water.add_element('B', 4.0e-5)\n",
    "borated_water.add_element('H', 5.0e-2)\n",
    "borated_water.add_element('O', 2.4e-2)\n",
    "borated_water.add_s_alpha_beta('c_H_in_H2O')"
   ]
  },
  {
   "cell_type": "code",
   "execution_count": null,
   "metadata": {},
   "outputs": [],
   "source": [
    "fuel_or = openmc.ZCylinder(r=0.39218, name='Fuel OR')\n",
    "clad_ir = openmc.ZCylinder(r=0.40005, name='Clad IR')\n",
    "clad_or = openmc.ZCylinder(r=0.45720, name='Clad OR')\n",
    "pitch = 1.25984\n",
    "box = openmc.model.rectangular_prism(pitch, pitch, boundary_type='reflective')\n",
    "\n",
    "# Create cells\n",
    "fuel = openmc.Cell(fill=uo2, region=-fuel_or)\n",
    "gap = openmc.Cell(fill=helium, region=+fuel_or & -clad_ir)\n",
    "clad = openmc.Cell(fill=zircaloy, region=+clad_ir & -clad_or)\n",
    "water = openmc.Cell(fill=borated_water, region=+clad_or & box)\n",
    "\n",
    "# Create a geometry\n",
    "geometry = openmc.Geometry([fuel, gap, clad, water])"
   ]
  },
  {
   "cell_type": "code",
   "execution_count": null,
   "metadata": {},
   "outputs": [],
   "source": [
    "# Instantiate a Settings object, set all runtime parameters, and export to XML\n",
    "settings = openmc.Settings()\n",
    "settings.batches = 10\n",
    "settings.inactive = 5\n",
    "settings.particles = 1000\n",
    "\n",
    "# Create an initial uniform spatial source distribution over fissionable zones\n",
    "settings.source = openmc.source.Source(space=openmc.stats.Point())"
   ]
  },
  {
   "cell_type": "code",
   "execution_count": null,
   "metadata": {},
   "outputs": [],
   "source": [
    "tally = openmc.Tally(name='flux value')\n",
    "tally.scores = ['flux']\n",
    "energies = np.logspace(np.log10(1e-5), np.log10(20.0e6), 501)\n",
    "energy_filter = openmc.EnergyFilter(energies)\n",
    "tally.filters = [energy_filter]\n",
    "\n",
    "t = openmc.Tallies([tally])\n",
    "t.export_to_xml()"
   ]
  },
  {
   "cell_type": "code",
   "execution_count": null,
   "metadata": {},
   "outputs": [],
   "source": [
    "uo2.volume = pi * fuel_or.r**2"
   ]
  },
  {
   "cell_type": "code",
   "execution_count": null,
   "metadata": {},
   "outputs": [],
   "source": [
    "with open('serpent_fissq.json', 'r') as f:\n",
    "    serpent_fission_q = json.load(f)\n",
    "\n",
    "# Set up depletion operator\n",
    "chain_file = 'chain_simple.xml'\n",
    "op = openmc.deplete.Operator(geometry, settings, chain_file,\n",
    "    fission_q=serpent_fission_q,\n",
    "    fission_yield_mode=\"average\")\n",
    "\n",
    "# cumulative steps in MWd/kg\n",
    "burnup_cum = np.array([\n",
    "    0.1, 0.5, 1.0, 2.0, 3.0, 4.0, 5.0, 6.0, 7.0, 8.0, 9.0, 10.0, 11.0,\n",
    "    12.5, 15.0, 17.5, 20.0, 22.5, 25.0, 27.5, 30.0, 32.5, 35.0, 37.5,\n",
    "    40.0, 42.5, 45.0, 47.5, 50.0\n",
    "])\n",
    "burnup = np.diff(burnup_cum, prepend=0.0)\n",
    "power = 174  # W/cm\n",
    "\n",
    "# Perform simulation using the predictor algorithm\n",
    "integrator = openmc.deplete.PredictorIntegrator(op, burnup, power, timestep_units='MWd/kg')\n",
    "integrator.integrate()"
   ]
  },
  {
   "cell_type": "markdown",
   "metadata": {},
   "source": [
    "## Flux"
   ]
  },
  {
   "cell_type": "markdown",
   "metadata": {},
   "source": [
    "## Unit conversion"
   ]
  },
  {
   "cell_type": "markdown",
   "metadata": {},
   "source": [
    "P = reactor power \\frac{j}{s}\n",
    "\n",
    "Q = 200 MeV for U-235 [J/fission]\n",
    "\n",
    "nu – score ‘nu-fission /fission-rate’ [neutrons/fission] \n",
    "\n",
    "k – eigenvalue [neutrons/source]\n",
    "\n",
    "factor = (P * nu_fission)/(fission_rate * volume * Q * k) \n",
    "\n",
    "Final Flux [neutrons/cm2.sec] = factor * flux [openmc flux tally]"
   ]
  },
  {
   "cell_type": "code",
   "execution_count": null,
   "metadata": {},
   "outputs": [],
   "source": [
    "sp0 = openmc.StatePoint('openmc_simulation_n0.h5')\n",
    "import matplotlib.pyplot as plt\n",
    "t = sp0.get_tally(name='flux value')\n",
    "flux = t.mean.ravel()\n",
    "plt.semilogx(energies[:-1], flux, color= 'red')\n",
    "plt.xlabel('Energy [eV]')\n",
    "plt.ylabel('Flux per unit lethargy [neutrons/cm$^2$s]')\n",
    "plt.show()"
   ]
  },
  {
   "cell_type": "code",
   "execution_count": null,
   "metadata": {},
   "outputs": [],
   "source": [
    "sp2 = openmc.StatePoint('openmc_simulation_n1.h5')\n",
    "\n",
    "t2 = sp2.get_tally(name='flux value')\n",
    "flux2 = t.mean.ravel()\n",
    "plt.semilogx(energies[:-1], flux2, color= 'red', label='n0')\n",
    "plt.semilogx(energies[:-1], flux, color= 'blue', label='n1')\n",
    "plt.xlabel('Energy [eV]')\n",
    "plt.ylabel('Flux per unit lethargy [neutrons/cm$^2$s]')\n",
    "plt.legend()\n",
    "plt.show()"
   ]
  },
  {
   "cell_type": "code",
   "execution_count": null,
   "metadata": {},
   "outputs": [],
   "source": [
    "sp29 = openmc.StatePoint('openmc_simulation_n29.h5')\n",
    "\n",
    "t29 = sp2.get_tally(name='flux value')\n",
    "flux29 = t.mean.ravel()\n",
    "\n",
    "plt.semilogx(energies[:-1], flux2, color= 'red', label='n1')\n",
    "plt.semilogx(energies[:-1], flux29, color= 'blue', label='n29')\n",
    "plt.xlabel('Energy [eV]')\n",
    "plt.ylabel('Flux per unit lethargy [neutrons/cm$^2$s]')\n",
    "plt.legend()\n",
    "plt.show()"
   ]
  },
  {
   "cell_type": "markdown",
   "metadata": {},
   "source": [
    "## Depletion Analysis"
   ]
  },
  {
   "cell_type": "code",
   "execution_count": null,
   "metadata": {},
   "outputs": [],
   "source": [
    "results = openmc.deplete.ResultsList.from_hdf5(\"depletion_results.h5\")\n",
    "time, keff = results.get_eigenvalue()"
   ]
  },
  {
   "cell_type": "code",
   "execution_count": null,
   "metadata": {},
   "outputs": [],
   "source": [
    "import matplotlib.pyplot as plt\n",
    "days = time/(24*60*60)\n",
    "x = (0.174 * days)/op.heavy_metal\n",
    "plt.figure()\n",
    "plt.errorbar(x, keff[:, 0], yerr=keff[:, 1])\n",
    "plt.xlabel(\"Mwd/kg\")\n",
    "plt.ylabel(\"Keff\")\n",
    "plt.show()"
   ]
  },
  {
   "cell_type": "code",
   "execution_count": null,
   "metadata": {},
   "outputs": [],
   "source": [
    "time, n_U235 = results.get_atoms('1', 'U235', nuc_units='atom/b-cm', time_units=\"d\")\n",
    "x = time*174/op.heavy_metal\n",
    "plt.figure()\n",
    "plt.errorbar(x/1e3, n_U235)\n",
    "plt.xlabel(\"Mwd/kg\")\n",
    "plt.ylabel(\"Atom density\")\n",
    "plt.show()"
   ]
  },
  {
   "cell_type": "code",
   "execution_count": null,
   "metadata": {},
   "outputs": [],
   "source": [
    "time, n_U235 = results.get_atoms('1', 'U235', nuc_units='atom/b-cm', time_units=\"d\")\n",
    "plt.errorbar(time, n_U235)\n",
    "plt.xlabel(\"Mwd/kg\")\n",
    "plt.ylabel(\"Atom density\")\n",
    "plt.show()"
   ]
  },
  {
   "cell_type": "code",
   "execution_count": null,
   "metadata": {},
   "outputs": [],
   "source": []
  }
 ],
 "metadata": {
  "kernelspec": {
   "display_name": "Python 3",
   "language": "python",
   "name": "python3"
  },
  "language_info": {
   "codemirror_mode": {
    "name": "ipython",
    "version": 3
   },
   "file_extension": ".py",
   "mimetype": "text/x-python",
   "name": "python",
   "nbconvert_exporter": "python",
   "pygments_lexer": "ipython3",
   "version": "3.6.9"
  }
 },
 "nbformat": 4,
 "nbformat_minor": 4
}
